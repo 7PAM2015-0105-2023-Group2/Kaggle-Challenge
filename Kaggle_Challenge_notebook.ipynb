{
  "nbformat": 4,
  "nbformat_minor": 0,
  "metadata": {
    "colab": {
      "provenance": [],
      "authorship_tag": "ABX9TyOZgLqQAJLVkbjlv0ruOkyL",
      "include_colab_link": true
    },
    "kernelspec": {
      "name": "python3",
      "display_name": "Python 3"
    },
    "language_info": {
      "name": "python"
    }
  },
  "cells": [
    {
      "cell_type": "markdown",
      "metadata": {
        "id": "view-in-github",
        "colab_type": "text"
      },
      "source": [
        "<a href=\"https://colab.research.google.com/github/7PAM2015-0105-2023-Group2/Kaggle-Challenge/blob/main/Kaggle_Challenge_notebook.ipynb\" target=\"_parent\"><img src=\"https://colab.research.google.com/assets/colab-badge.svg\" alt=\"Open In Colab\"/></a>"
      ]
    },
    {
      "cell_type": "code",
      "execution_count": null,
      "metadata": {
        "id": "l6BPLMOxFu7v"
      },
      "outputs": [],
      "source": [
        "import pandas as pd\n",
        "data = 'https://raw.githubusercontent.com/7PAM2015-0105-2023-Group2/Kaggle-Challenge/main/train.csv'\n",
        "df = pd.read_csv(data)\n",
        "df.head()"
      ]
    }
  ]
}